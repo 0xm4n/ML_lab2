{
 "cells": [
  {
   "cell_type": "code",
   "execution_count": 25,
   "metadata": {},
   "outputs": [],
   "source": [
    "from sklearn import datasets\n",
    "from sklearn.model_selection import train_test_split\n",
    "import matplotlib.pyplot as plt\n",
    "import numpy as np\n",
    "import random\n",
    "\n",
    "x_train, y_train = datasets.load_svmlight_file('a9a')\n",
    "x_test, y_test = datasets.load_svmlight_file('a9a.t',n_features=123)\n",
    "\n",
    "x_train = x_train.toarray()\n",
    "x_test = x_test.toarray()\n",
    "\n",
    "y_train = ( y_train + 1 ) / 2\n",
    "y_test = ( y_test + 1 ) / 2\n",
    "\n",
    "\n",
    "#初始化学习率\n",
    "learnRate = 0.01\n",
    "\n",
    "#计算训练集的行数\n",
    "train_row_size, = y_train.shape\n",
    "test_row_size, = y_test.shape\n",
    "#生成一个行数=train_array_row_size的全 1向量,算出X\n",
    "temp_vector = np.ones(train_row_size)\n",
    "X_train = np.column_stack((x_train,temp_vector))\n",
    "temp_vector = np.ones(test_row_size)\n",
    "X_test = np.column_stack((x_test,temp_vector))\n",
    "batch_size = 30\n",
    "epoch = 8000"
   ]
  },
  {
   "cell_type": "code",
   "execution_count": 26,
   "metadata": {},
   "outputs": [],
   "source": [
    "def computeHypro(x):\n",
    "    return 1 / (1 + np.exp(x))"
   ]
  },
  {
   "cell_type": "code",
   "execution_count": 27,
   "metadata": {},
   "outputs": [],
   "source": [
    "def computeGradient_train():\n",
    "    G_array = []\n",
    "    for i in range(batch_size):\n",
    "        temp = random.randint(0,train_row_size-1)\n",
    "        h = 1 / (1 + np.exp(-np.dot(w.T,X_train[temp])))\n",
    "        G = (h - y_train[temp])*X_train[temp]\n",
    "        G_array.append(G)\n",
    "    sum = np.mean(G_array, axis=0)\n",
    "    for n in range (124):        \n",
    "        w[n] = w[n] - learnRate * sum[n]"
   ]
  },
  {
   "cell_type": "code",
   "execution_count": 28,
   "metadata": {},
   "outputs": [],
   "source": [
    "def computeGradient_test():\n",
    "    G_array = []\n",
    "    for i in range(batch_size):\n",
    "        temp = random.randint(0,test_row_size-1)\n",
    "        h = 1 / (1 + np.exp(-np.dot(w.T,X_test[temp])))\n",
    "        G = (h - y_test[temp])*X_test[temp]\n",
    "        G_array.append(G)\n",
    "    sum = np.mean(G_array, axis=0)\n",
    "    for n in range (124):        \n",
    "        w[n] = w[n] - learnRate * sum[n]"
   ]
  },
  {
   "cell_type": "code",
   "execution_count": 29,
   "metadata": {},
   "outputs": [],
   "source": [
    "def computeLoss_train():\n",
    "    x = np.dot( -w.T,X_train.T)\n",
    "    h = computeHypro(x)\n",
    "    right_part = np.dot(y_train.T,np.log(h))\n",
    "    \n",
    "    x1 = np.ones(train_row_size) - y_train\n",
    "    y1 = np.log(np.ones(train_row_size) - h)\n",
    "    left_part = np.dot(x1.T,y1)\n",
    "    \n",
    "    loss = -(right_part + left_part) / train_row_size\n",
    "    return loss"
   ]
  },
  {
   "cell_type": "code",
   "execution_count": 30,
   "metadata": {},
   "outputs": [],
   "source": [
    "def computeLoss_test():\n",
    "    x = np.dot( -w.T,X_test.T)\n",
    "    h = computeHypro(x)\n",
    "    right_part = np.dot(y_test.T,np.log(h))\n",
    "    \n",
    "    x1 = np.ones(test_row_size) - y_test\n",
    "    y1 = np.log(np.ones(test_row_size) - h)\n",
    "    left_part = np.dot(x1.T,y1)\n",
    "    \n",
    "    loss = -(right_part + left_part) / test_row_size\n",
    "    return loss"
   ]
  },
  {
   "cell_type": "code",
   "execution_count": 31,
   "metadata": {},
   "outputs": [],
   "source": [
    "train_loss_tuple = []\n",
    "test_loss_tuple = []\n",
    "#初始化w\n",
    "w = np.zeros(124)\n",
    "for i in range (epoch):\n",
    "    computeGradient_train()\n",
    "    train_loss_tuple.append(computeLoss_train())\n",
    "w = np.zeros(124)\n",
    "for i in range (epoch):\n",
    "    computeGradient_test()\n",
    "    test_loss_tuple.append(computeLoss_test())"
   ]
  },
  {
   "cell_type": "code",
   "execution_count": 32,
   "metadata": {},
   "outputs": [
    {
     "data": {
      "image/png": "[encoded data removed]",
      "text/plain": [
       "<Figure size 432x288 with 1 Axes>"
      ]
     },
     "metadata": {},
     "output_type": "display_data"
    }
   ],
   "source": [
    "plt.title('Logistic Regression\\nMBGD')\n",
    "plt.xlabel('training time')\n",
    "plt.ylabel('Lvalidation')\n",
    "plt.plot(train_loss_tuple,label= \"Train loss\",color = 'red')\n",
    "plt.plot(test_loss_tuple,label= \"Test loss\",color = 'blue')\n",
    "plt.legend(loc='upper right')\n",
    "plt.grid()\n",
    "plt.show()"
   ]
  }
 ],
 "metadata": {
  "kernelspec": {
   "display_name": "Python 3",
   "language": "python",
   "name": "python3"
  },
  "language_info": {
   "codemirror_mode": {
    "name": "ipython",
    "version": 3
   },
   "file_extension": ".py",
   "mimetype": "text/x-python",
   "name": "python",
   "nbconvert_exporter": "python",
   "pygments_lexer": "ipython3",
   "version": "3.6.5"
  }
 },
 "nbformat": 4,
 "nbformat_minor": 2
}
