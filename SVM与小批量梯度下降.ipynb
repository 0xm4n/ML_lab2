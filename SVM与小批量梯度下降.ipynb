{
 "cells": [
  {
   "cell_type": "code",
   "execution_count": 13,
   "metadata": {},
   "outputs": [],
   "source": [
    "from sklearn import datasets\n",
    "from sklearn.model_selection import train_test_split\n",
    "import matplotlib.pyplot as plt\n",
    "import numpy as np\n",
    "import random\n",
    "\n",
    "x_train, y_train = datasets.load_svmlight_file('a9a')\n",
    "x_test, y_test = datasets.load_svmlight_file('a9a.t',n_features=123)\n",
    "x_train = x_train.toarray()\n",
    "x_test = x_test.toarray()\n",
    "#初始化\n",
    "C = 0.15\n",
    "epoch = 1800\n",
    "learningRate = 0.01\n",
    "batch_size = 50\n",
    "train_row_size, = y_train.shape\n",
    "test_row_size, = y_test.shape"
   ]
  },
  {
   "cell_type": "code",
   "execution_count": 14,
   "metadata": {},
   "outputs": [],
   "source": [
    "def computeLoss_train():\n",
    "    loss_train = (0.5 * np.linalg.norm(w) ** 2) + C * np.sum(np.maximum(1 - (np.multiply(y_train,(np.dot(x_train, w)+ b))), 0))\n",
    "    return loss_train/train_row_size"
   ]
  },
  {
   "cell_type": "code",
   "execution_count": 15,
   "metadata": {},
   "outputs": [],
   "source": [
    "def computeLoss_test():\n",
    "    loss_test = (0.5 * np.linalg.norm(w) ** 2) + C * np.sum(np.maximum(1 - (np.multiply(y_test,(np.dot(x_test, w)+ b))), 0))\n",
    "    return loss_test/test_row_size"
   ]
  },
  {
   "cell_type": "code",
   "execution_count": 16,
   "metadata": {},
   "outputs": [],
   "source": [
    "def computeGradient_train():\n",
    "    Gwx_array = []\n",
    "    global b\n",
    "    b_sum = 0\n",
    "    for i in range(batch_size):\n",
    "        temp = random.randint(0,train_row_size-1)\n",
    "        h = 1 - (y_train[temp] * (np.dot(x_train[temp],w) + b))\n",
    "        gwx = np.where(h >= 0, (-y_train[temp] * x_train[temp]), 0)\n",
    "        gwb = np.where(h >= 0, -y_train[temp], 0)\n",
    "        Gwx_array.append(gwx)\n",
    "        b_sum += gwb\n",
    "    G_x = w + C *((np.mean(Gwx_array, axis=0)).T)\n",
    "    G_b = C * b_sum / batch_size  \n",
    "    for n in range (123):        \n",
    "        w[n] = w[n] - learningRate * G_x[n]\n",
    "    b = b - learningRate * G_b"
   ]
  },
  {
   "cell_type": "code",
   "execution_count": 17,
   "metadata": {},
   "outputs": [],
   "source": [
    "def computeGradient_test():\n",
    "    global b\n",
    "    Gwx_array = []\n",
    "    b_sum = 0\n",
    "    for i in range(batch_size):\n",
    "        temp = random.randint(0,test_row_size-1)\n",
    "        h = 1 - (y_test[temp] * (np.dot(x_test[temp],w) + b))\n",
    "        gwx = np.where(h >= 0, (-y_test[temp] * x_test[temp]), 0)\n",
    "        gwb = np.where(h >= 0, -y_test[temp], 0)\n",
    "        Gwx_array.append(gwx)\n",
    "        b_sum += gwb\n",
    "    G_x = w + C *((np.mean(Gwx_array, axis=0)).T)\n",
    "    G_b = C * b_sum / batch_size  \n",
    "    for n in range (123):        \n",
    "        w[n] = w[n] - learningRate * G_x[n]\n",
    "    b = b - learningRate * G_b"
   ]
  },
  {
   "cell_type": "code",
   "execution_count": 18,
   "metadata": {},
   "outputs": [],
   "source": [
    "loss_train = []\n",
    "loss_test = []\n",
    "w = np.zeros(123)\n",
    "b = 0\n",
    "for i in range(epoch):\n",
    "    computeGradient_train()\n",
    "    loss_train.append(computeLoss_train())\n",
    "w = np.zeros(123)\n",
    "b = 0\n",
    "for i in range(epoch):\n",
    "    computeGradient_test()\n",
    "    loss_test.append(computeLoss_test())"
   ]
  },
  {
   "cell_type": "code",
   "execution_count": 19,
   "metadata": {},
   "outputs": [
    {
     "data": {
      "image/png": "[encoded data removed]",
      "text/plain": [
       "<Figure size 432x288 with 1 Axes>"
      ]
     },
     "metadata": {},
     "output_type": "display_data"
    }
   ],
   "source": [
    "plt.title('Support Vector Machine\\nMBGD')\n",
    "plt.xlabel('epoch')\n",
    "plt.ylabel('loss')\n",
    "plt.plot(loss_train,label= \"Train loss\",color = 'red')\n",
    "plt.plot(loss_test,label= \"Test loss\",color = 'blue')\n",
    "plt.legend(loc='upper right')\n",
    "plt.grid()\n",
    "plt.show()"
   ]
  }
 ],
 "metadata": {
  "kernelspec": {
   "display_name": "Python 3",
   "language": "python",
   "name": "python3"
  },
  "language_info": {
   "codemirror_mode": {
    "name": "ipython",
    "version": 3
   },
   "file_extension": ".py",
   "mimetype": "text/x-python",
   "name": "python",
   "nbconvert_exporter": "python",
   "pygments_lexer": "ipython3",
   "version": "3.6.5"
  }
 },
 "nbformat": 4,
 "nbformat_minor": 2
}
