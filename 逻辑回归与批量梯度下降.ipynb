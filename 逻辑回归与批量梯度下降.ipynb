{
 "cells": [
  {
   "cell_type": "code",
   "execution_count": 30,
   "metadata": {},
   "outputs": [],
   "source": [
    "from sklearn import datasets\n",
    "from sklearn.model_selection import train_test_split\n",
    "import matplotlib.pyplot as plt\n",
    "import numpy as np\n",
    "\n",
    "x_train, y_train = datasets.load_svmlight_file('a9a')\n",
    "x_test, y_test = datasets.load_svmlight_file('a9a.t')\n",
    "\n",
    "x_train = x_train.toarray()\n",
    "x_test = x_test.toarray()\n",
    "\n",
    "y_train = ( y_train + 1 ) / 2\n",
    "y_test = ( y_test + 1 ) / 2\n",
    "\n",
    "#初始化w\n",
    "w = np.zeros(124)\n",
    "#初始化学习率\n",
    "learnRate = 0.01\n",
    "\n",
    "#计算训练集的行数\n",
    "train_row_size, = y_train.shape\n",
    "test_row_size, = y_test.shape\n",
    "#生成一个行数=train_array_row_size的全1向量,算出X\n",
    "temp_vector = np.ones(train_row_size)\n",
    "X_train = np.column_stack((x_train,temp_vector))\n",
    "temp_vector = np.ones(test_row_size)\n",
    "X_test = np.column_stack((x_test,temp_vector))"
   ]
  },
  {
   "cell_type": "code",
   "execution_count": 31,
   "metadata": {},
   "outputs": [],
   "source": [
    "def computeHypro(x):\n",
    "    return 1 / (1 + np.exp(x))"
   ]
  },
  {
   "cell_type": "code",
   "execution_count": 32,
   "metadata": {},
   "outputs": [],
   "source": [
    "def computeGradient_train():\n",
    "     #算梯度更新w\n",
    "    x = np.dot( -w.T,X_train.T)\n",
    "    h = computeHypro(x)\n",
    "    for i in range (124):\n",
    "        w[i] = w[i] - learnRate * np.dot((h - y_train).T,X_train[:,i]) / train_row_size\n",
    "    \n",
    "    #求loss\n",
    "    right_part = np.dot(y_train.T,np.log(h))\n",
    "    \n",
    "    x1 = np.ones(train_row_size) - y_train\n",
    "    y1 = np.log(np.ones(train_row_size) - h)\n",
    "    left_part = np.dot(x1.T,y1)\n",
    "    \n",
    "    loss = -(right_part + left_part) / train_row_size\n",
    "    return loss"
   ]
  },
  {
   "cell_type": "code",
   "execution_count": 33,
   "metadata": {},
   "outputs": [],
   "source": [
    "train_loss_tuple = []\n",
    "for i in range (6000):\n",
    "    train_loss_tuple.append(computeGradient_train())"
   ]
  },
  {
   "cell_type": "code",
   "execution_count": 34,
   "metadata": {},
   "outputs": [
    {
     "data": {
      "image/png": "[encoded data removed]",
      "text/plain": [
       "<Figure size 432x288 with 1 Axes>"
      ]
     },
     "metadata": {},
     "output_type": "display_data"
    }
   ],
   "source": [
    "plt.title('Logistic Regression\\nBGD')\n",
    "plt.xlabel('training time')\n",
    "plt.ylabel('Lvalidation')\n",
    "plt.plot(train_loss_tuple,label= \"Train loss\",color = 'red')\n",
    "plt.legend(loc='upper right')\n",
    "plt.grid()\n",
    "plt.show()"
   ]
  },
  {
   "cell_type": "code",
   "execution_count": null,
   "metadata": {},
   "outputs": [],
   "source": []
  },
  {
   "cell_type": "code",
   "execution_count": null,
   "metadata": {},
   "outputs": [],
   "source": []
  }
 ],
 "metadata": {
  "kernelspec": {
   "display_name": "Python 3",
   "language": "python",
   "name": "python3"
  },
  "language_info": {
   "codemirror_mode": {
    "name": "ipython",
    "version": 3
   },
   "file_extension": ".py",
   "mimetype": "text/x-python",
   "name": "python",
   "nbconvert_exporter": "python",
   "pygments_lexer": "ipython3",
   "version": "3.6.5"
  }
 },
 "nbformat": 4,
 "nbformat_minor": 2
}
